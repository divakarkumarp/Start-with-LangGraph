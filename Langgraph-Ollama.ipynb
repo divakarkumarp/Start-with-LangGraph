{
 "cells": [
  {
   "cell_type": "markdown",
   "metadata": {},
   "source": [
    "We will use Ollama for LLM -> llama 3.1:8b for basic testing."
   ]
  },
  {
   "cell_type": "code",
   "execution_count": 1,
   "metadata": {},
   "outputs": [],
   "source": [
    "%%capture\n",
    "%pip install -U langgraph langsmith\n",
    "\n",
    "# Used for this tutorial; not a requirement for LangGraph\n",
    "%pip install -U langchain-openai"
   ]
  },
  {
   "cell_type": "code",
   "execution_count": 2,
   "metadata": {},
   "outputs": [],
   "source": [
    "from langgraph.graph import Graph\n",
    "\n",
    "# define a langchain graph\n",
    "graph_builder = Graph()"
   ]
  },
  {
   "cell_type": "code",
   "execution_count": 3,
   "metadata": {},
   "outputs": [],
   "source": [
    "# lets first understand how the Graph things work here\n",
    "# nodes act like functions that can be called as needed\n",
    "def function_1(input_1):\n",
    "    return input_1 + \" Hi \"\n",
    "\n",
    "def function_2(input_2):\n",
    "    return input_2 + \"there\"\n",
    "\n",
    "# The first argument is the unique node name\n",
    "# The second argument is the function or object that will be called whenever the node is used.\n",
    "graph_builder.add_node(\"node_1\", function_1)\n",
    "graph_builder.add_node(\"node_2\", function_2)"
   ]
  },
  {
   "cell_type": "code",
   "execution_count": 4,
   "metadata": {},
   "outputs": [],
   "source": [
    "graph_builder.add_edge(\"node_1\", \"node_2\")\n",
    "graph_builder.set_entry_point(\"node_1\")\n",
    "graph_builder.set_finish_point(\"node_2\")"
   ]
  },
  {
   "cell_type": "code",
   "execution_count": 5,
   "metadata": {},
   "outputs": [],
   "source": [
    "graph = graph_builder.compile()"
   ]
  },
  {
   "cell_type": "code",
   "execution_count": 6,
   "metadata": {},
   "outputs": [
    {
     "data": {
      "image/jpeg": "[encoded data removed]",
      "text/plain": [
       "<IPython.core.display.Image object>"
      ]
     },
     "metadata": {},
     "output_type": "display_data"
    }
   ],
   "source": [
    "from IPython.display import Image, display\n",
    "\n",
    "try:\n",
    "    display(Image(graph.get_graph().draw_mermaid_png()))\n",
    "except Exception:\n",
    "    # This requires some extra dependencies and is optional\n",
    "    pass"
   ]
  },
  {
   "cell_type": "code",
   "execution_count": 9,
   "metadata": {},
   "outputs": [
    {
     "data": {
      "text/plain": [
       "'Hello Hi there'"
      ]
     },
     "execution_count": 9,
     "metadata": {},
     "output_type": "execute_result"
    }
   ],
   "source": [
    "# now, lets run the chatbot\n",
    "graph.invoke(\"Hello\")"
   ]
  },
  {
   "cell_type": "markdown",
   "metadata": {},
   "source": [
    "Let's build a basic chatbot"
   ]
  },
  {
   "cell_type": "code",
   "execution_count": 10,
   "metadata": {},
   "outputs": [],
   "source": [
    "# langsmith makes it esier to see what's going on \"under the hood\"\n",
    "# https://eu.smith.langchain.com\n",
    "import getpass\n",
    "import os\n",
    "\n",
    "\n",
    "def _set_env(var: str):\n",
    "    if not os.environ.get(var):\n",
    "        os.environ[var] = getpass.getpass(f\"{var}: \")"
   ]
  },
  {
   "cell_type": "code",
   "execution_count": 11,
   "metadata": {},
   "outputs": [
    {
     "name": "stdin",
     "output_type": "stream",
     "text": [
      "LANGCHAIN_API_KEY:  ········\n"
     ]
    }
   ],
   "source": [
    "_set_env(\"LANGCHAIN_API_KEY\")\n",
    "os.environ[\"LANGCHAIN_TRACING_V2\"]=\"true\"\n",
    "os.environ[\"LANGCHAIN_ENDPOINT\"]=\"https://api.smith.langchain.com\"\n",
    "os.environ[\"LANGCHAIN_PROJECT\"]=\"Langgraph_Ollama\""
   ]
  },
  {
   "cell_type": "code",
   "execution_count": 12,
   "metadata": {},
   "outputs": [],
   "source": [
    "from langchain_openai import ChatOpenAI"
   ]
  },
  {
   "cell_type": "markdown",
   "metadata": {},
   "source": [
    "Make sure Ollama is running -> http://localhost:11434"
   ]
  },
  {
   "cell_type": "code",
   "execution_count": 13,
   "metadata": {},
   "outputs": [],
   "source": [
    "llm_local = ChatOpenAI(api_key=\"provide_aynthing_here\",model=\"llama3.1:latest\",base_url=\"http://localhost:11434/v1\",)"
   ]
  },
  {
   "cell_type": "markdown",
   "metadata": {},
   "source": [
    "* Start by creating a StateGraph.\n",
    "* A StateGraph object defines the structure of our chatbot as a \"state machine\".\n",
    "* We'll add nodes to represent the llm and functions our chatbot can call and edges to specify how the bot should transition between these functions."
   ]
  },
  {
   "cell_type": "code",
   "execution_count": 15,
   "metadata": {},
   "outputs": [],
   "source": [
    "from typing import Annotated\n",
    "\n",
    "from typing_extensions import TypedDict\n",
    "\n",
    "from langgraph.graph import StateGraph, START, END\n",
    "from langgraph.graph.message import add_messages\n",
    "\n",
    "\n",
    "class State(TypedDict):\n",
    "    # Messages have the type \"list\". The `add_messages` function\n",
    "    # in the annotation defines how this state key should be updated\n",
    "    # (in this case, it appends messages to the list, rather than overwriting them)\n",
    "    messages: Annotated[list, add_messages]\n",
    "\n",
    "\n",
    "graph_builder = StateGraph(State)"
   ]
  },
  {
   "cell_type": "markdown",
   "metadata": {},
   "source": [
    "So now our graph knows two things:\n",
    "\n",
    "* Every node we define will receive the current State as input and return a value that updates that state.\n",
    "* messages will be appended to the current list, rather than directly overwritten. This is communicated via the prebuilt add_messages function in the Annotated syntax.\n",
    "\n",
    "Next, add a \"chatbot\" node. Nodes represent units of work. They are typically regular python functions."
   ]
  },
  {
   "cell_type": "code",
   "execution_count": 16,
   "metadata": {},
   "outputs": [],
   "source": [
    "def chatbot(state: State):\n",
    "    return {\"messages\": [llm_local.invoke(state[\"messages\"])]}\n",
    "\n",
    "# The first argument is the unique node name\n",
    "# The second argument is the function or object that will be called whenever\n",
    "# the node is used.\n",
    "graph_builder.add_node(\"chatbot\", chatbot)"
   ]
  },
  {
   "cell_type": "markdown",
   "metadata": {},
   "source": [
    "The add_messages function in our State will append the llm's response messages to whatever messages are already in the state."
   ]
  },
  {
   "cell_type": "code",
   "execution_count": 17,
   "metadata": {},
   "outputs": [],
   "source": [
    "# Next, add an entry point. This tells our graph where to start its work each time we run it.\n",
    "graph_builder.add_edge(START, \"chatbot\")"
   ]
  },
  {
   "cell_type": "code",
   "execution_count": 18,
   "metadata": {},
   "outputs": [],
   "source": [
    "# Similarly, set a finish point. This instructs the graph \"any time this node is run, you can exit.\"\n",
    "graph_builder.add_edge(\"chatbot\", END)"
   ]
  },
  {
   "cell_type": "code",
   "execution_count": 19,
   "metadata": {},
   "outputs": [],
   "source": [
    "# Finally, we'll want to be able to run our graph. To do so, call \"compile()\" on the graph builder. \n",
    "# This creates a \"CompiledGraph\" we can use invoke on our state.\n",
    "graph = graph_builder.compile()"
   ]
  },
  {
   "cell_type": "code",
   "execution_count": 20,
   "metadata": {},
   "outputs": [
    {
     "data": {
      "image/jpeg": "[encoded data removed]",
      "text/plain": [
       "<IPython.core.display.Image object>"
      ]
     },
     "metadata": {},
     "output_type": "display_data"
    }
   ],
   "source": [
    "from IPython.display import Image, display\n",
    "\n",
    "try:\n",
    "    display(Image(graph.get_graph().draw_mermaid_png()))\n",
    "except Exception:\n",
    "    # This requires some extra dependencies and is optional\n",
    "    pass"
   ]
  },
  {
   "cell_type": "code",
   "execution_count": 21,
   "metadata": {},
   "outputs": [
    {
     "name": "stdin",
     "output_type": "stream",
     "text": [
      "User:  seasonal weather patterns\n"
     ]
    },
    {
     "name": "stdout",
     "output_type": "stream",
     "text": [
      "Assistant: Seasonal weather patterns are the recurring changes in temperatures, precipitation, and wind patterns that occur throughout a year. These patterns are driven by the Earth's tilt and orbit around the sun, which results in different amounts of solar radiation being absorbed by the planet at various times of the year.\n",
      "\n",
      "**Characteristics of Seasonal Weather Patterns:**\n",
      "\n",
      "1. **Temperature**: The coldest winter and warmest summer months.\n",
      "2. **Precipitation**: Changes in precipitation patterns throughout the year, with more rainfall expected during certain seasons.\n",
      "3. **Wind patterns**: Modifications to local wind direction and intensity due to changes in seasonality.\n",
      "4. **Humidity**: Shifts in atmospheric moisture levels, affecting air humidity and temperature.\n",
      "\n",
      "**Worldwide Seasonal Weather Patterns:**\n",
      "\n",
      "1. **Equatorial Climate Zone**: Tropics have largely consistent temperatures (average ~28°C/22°F) throughout the year.\n",
      "2. **Tepid Humid Climate**: Areas near tropical coasts receive consistent warm and wet seasons (like Hawaii).\n",
      "3. **Temperature-Climate Change**: Moderate latitudes experience seasonality with gradual temperature decreases to winter lows (~0°C/32°F).\n",
      "4. **Temperate Continental Climate**: Regions without large coastal influence exhibit pronounced seasonal changes, such as New York State in the United States.\n",
      "\n",
      "**Typical Seasonal Trends:**\n",
      "\n",
      "1. **Spring:** Late winter temperatures gradually increase (March equinox marks vernal balance in Northern Hemisphere)\n",
      "\t* In temperate zones: Temperaments and vegetation start to grow.\n",
      "2. **Summer:** Peak global temperature is around mid-summer.\n",
      "\t* Humidity peak and long days can cause hot flash and storms worldwide.\n",
      "3. **Autumn** (Fall): Average September temperatures are close equilibrium between seasons (harvest season begins around Northern Hem region).\n",
      "4. **Winter**: Typically, colder with heavy snowfall or even blizzards in certain mid-latitude continents (~24th to Dec).\n",
      "\n",
      "Seasonal forecasting has been greatly improved through:\n",
      "\n",
      "1. **Numerical Weather Predictability**, e.g., Global Forecast Models, by increasing spatial and temporal resolution.\n",
      "2. **Rapid Satellite Data Acquisition, which allows much better seasonal monitoring with reduced time errors at higher geographical resolutions (see GISTEMP analysis as an instance for Earth Science).\n",
      "3. **Ensemble Modeling techniques have further enhanced the quality of long-sighted weather forecasting**, while they help to estimate reliability and possible deviations.\n",
      "\n",
      "I would be happy to add or address any specific geography-related topics such as polar climate regions using this foundation!\n"
     ]
    },
    {
     "name": "stdin",
     "output_type": "stream",
     "text": [
      "User:  q\n"
     ]
    },
    {
     "name": "stdout",
     "output_type": "stream",
     "text": [
      "Goodbye!\n"
     ]
    }
   ],
   "source": [
    "# now, lets run the chatbot\n",
    "# Tip: You can exit the chat loop at any time by typing \"quit\", \"exit\", or \"q\".\n",
    "\n",
    "while True:  # Start an infinite loop to keep the program running until a break condition is met.\n",
    "    user_input = input(\"User: \")  # Prompt the user to input a message.\n",
    "    \n",
    "    # Check if the user wants to quit by typing \"quit\", \"exit\", or \"q\" (case-insensitive).\n",
    "    if user_input.lower() in [\"quit\", \"exit\", \"q\"]:\n",
    "        print(\"Goodbye!\")  # Print a goodbye message.\n",
    "        break  # Exit the loop and end the program.\n",
    "    \n",
    "    # Stream events from the 'graph' using the user input, processing each event returned.\n",
    "    for event in graph.stream({\"messages\": (\"user\", user_input)}):\n",
    "        # Iterate over each value in the event.\n",
    "        for value in event.values():\n",
    "            # Print the assistant's response, which is the last message in the 'messages' list of the value.\n",
    "            print(\"Assistant:\", value[\"messages\"][-1].content)"
   ]
  },
  {
   "cell_type": "code",
   "execution_count": 22,
   "metadata": {},
   "outputs": [
    {
     "data": {
      "text/plain": [
       "AIMessage(content='Hello World! What can I help you with today?', additional_kwargs={'refusal': None}, response_metadata={'token_usage': {'completion_tokens': 12, 'prompt_tokens': 14, 'total_tokens': 26}, 'model_name': 'llama3.1:latest', 'system_fingerprint': 'fp_ollama', 'finish_reason': 'stop', 'logprobs': None}, id='run-94ac8749-330e-4bf3-b60a-d0002c4db972-0', usage_metadata={'input_tokens': 14, 'output_tokens': 12, 'total_tokens': 26})"
      ]
     },
     "execution_count": 22,
     "metadata": {},
     "output_type": "execute_result"
    }
   ],
   "source": [
    "llm_local.invoke(\"hello world!\")"
   ]
  },
  {
   "attachments": {
    "image.png": {
     "image/png": "[encoded data removed]"
    }
   },
   "cell_type": "markdown",
   "metadata": {},
   "source": [
    "bot's knowledge is limited to what's in its training data. In the next part, we'll add a web search tool to expand the bot's knowledge and make it more capable.\n",
    "\n",
    "Enhancing the Chatbot with Tools ( web search tool )\n",
    "\n",
    "![image.png](attachment:image.png)"
   ]
  },
  {
   "cell_type": "code",
   "execution_count": 23,
   "metadata": {},
   "outputs": [],
   "source": [
    "%%capture\n",
    "%pip install -U tavily-python\n",
    "%pip install -U langchain_community"
   ]
  },
  {
   "cell_type": "markdown",
   "metadata": {},
   "source": [
    "First, install the requirements to use the [Tavily Search Engine](https://docs.tavily.com/docs/welcome), and set your TAVILY_API_KEY.\n",
    "\n",
    "* [Tavily Search API](https://app.tavily.com/home)"
   ]
  },
  {
   "cell_type": "code",
   "execution_count": 24,
   "metadata": {},
   "outputs": [
    {
     "name": "stdin",
     "output_type": "stream",
     "text": [
      "TAVILY_API_KEY:  ········\n"
     ]
    }
   ],
   "source": [
    "_set_env(\"TAVILY_API_KEY\")"
   ]
  },
  {
   "cell_type": "code",
   "execution_count": 25,
   "metadata": {},
   "outputs": [],
   "source": [
    "# lets define the tool\n",
    "\n",
    "from langchain_community.tools.tavily_search import TavilySearchResults\n",
    "\n",
    "tool = TavilySearchResults(max_results=2)\n",
    "tools = [tool]"
   ]
  },
  {
   "cell_type": "code",
   "execution_count": 26,
   "metadata": {},
   "outputs": [
    {
     "data": {
      "text/plain": [
       "[{'url': 'https://www.weatherapi.com/',\n",
       "  'content': \"{'location': {'name': 'Helsinki', 'region': 'Southern Finland', 'country': 'Finland', 'lat': 60.18, 'lon': 24.93, 'tz_id': 'Europe/Helsinki', 'localtime_epoch': 1725018141, 'localtime': '2024-08-30 14:42'}, 'current': {'last_updated_epoch': 1725017400, 'last_updated': '2024-08-30 14:30', 'temp_c': 25.4, 'temp_f': 77.7, 'is_day': 1, 'condition': {'text': 'Sunny', 'icon': '//cdn.weatherapi.com/weather/64x64/day/113.png', 'code': 1000}, 'wind_mph': 12.5, 'wind_kph': 20.2, 'wind_degree': 150, 'wind_dir': 'SSE', 'pressure_mb': 1019.0, 'pressure_in': 30.09, 'precip_mm': 0.0, 'precip_in': 0.0, 'humidity': 61, 'cloud': 0, 'feelslike_c': 26.9, 'feelslike_f': 80.4, 'windchill_c': 23.0, 'windchill_f': 73.3, 'heatindex_c': 25.0, 'heatindex_f': 76.9, 'dewpoint_c': 16.5, 'dewpoint_f': 61.7, 'vis_km': 10.0, 'vis_miles': 6.0, 'uv': 6.0, 'gust_mph': 14.8, 'gust_kph': 23.8}}\"},\n",
       " {'url': 'https://www.computerbild.de/artikel/cb-Haus-Garten-Energie-Riesige-Waermepumpe-soll-30.000-Haushalte-versorgen-38878665.html',\n",
       "  'content': 'Helsinki versorgt 30.000 Haushalte mit Wärme aus riesiger Wärmepumpe ... MAN Energy Solutions SE. 30.08.2024, ... Die Anlage soll selbst Außentemperaturen von bis zu minus 20 Grad Celsius ...'}]"
      ]
     },
     "execution_count": 26,
     "metadata": {},
     "output_type": "execute_result"
    }
   ],
   "source": [
    "tool.invoke(\"What is the weather of Helsinki in Celsius?\")"
   ]
  },
  {
   "cell_type": "code",
   "execution_count": 27,
   "metadata": {},
   "outputs": [],
   "source": [
    "llm_with_tools = llm_local.bind_tools(tools)"
   ]
  },
  {
   "cell_type": "code",
   "execution_count": 29,
   "metadata": {},
   "outputs": [],
   "source": [
    "from typing import Annotated\n",
    "\n",
    "from typing_extensions import TypedDict\n",
    "\n",
    "from langgraph.graph import StateGraph, START\n",
    "from langgraph.graph.message import add_messages\n",
    "\n",
    "\n",
    "class State(TypedDict):\n",
    "    messages: Annotated[list, add_messages]\n",
    "\n",
    "\n",
    "graph_builder = StateGraph(State)\n",
    "\n",
    "#llm = ChatOpenAI(temperature=0, streaming=True)\n",
    "#llm = ChatAnthropic(model=\"claude-3-haiku-20240307\")\n",
    "# Modification: tell the LLM which tools it can call\n",
    "llm_with_tools = llm_local.bind_tools(tools)\n",
    "\n",
    "\n",
    "def chatbot(state: State):\n",
    "    return {\"messages\": [llm_with_tools.invoke(state[\"messages\"])]}\n",
    "\n",
    "\n",
    "graph_builder.add_node(\"chatbot\", chatbot)"
   ]
  },
  {
   "cell_type": "markdown",
   "metadata": {},
   "source": [
    "Create a function to actually run the tools if they are called"
   ]
  },
  {
   "cell_type": "code",
   "execution_count": 30,
   "metadata": {},
   "outputs": [],
   "source": [
    "import json\n",
    "from langchain_core.messages import ToolMessage\n",
    "\n",
    "class BasicToolNode:\n",
    "    \"\"\"A class representing a node that processes and executes tool requests embedded in the last AI message.\"\"\"\n",
    "\n",
    "    def __init__(self, tools: list) -> None:\n",
    "        \"\"\"\n",
    "        Initializes the BasicToolNode with a list of available tools.\n",
    "        \n",
    "        Args:\n",
    "            tools (list): A list of tool objects that the node can use to execute requests.\n",
    "        \"\"\"\n",
    "        # Creates a dictionary mapping tool names to tool objects for quick lookup during execution\n",
    "        self.tools_by_name = {tool.name: tool for tool in tools}\n",
    "\n",
    "    def __call__(self, inputs: dict):\n",
    "        \"\"\"\n",
    "        Processes the input data to extract the latest message and execute the requested tools.\n",
    "        \n",
    "        Args:\n",
    "            inputs (dict): A dictionary containing messages, where each message can contain tool calls.\n",
    "        \n",
    "        Returns:\n",
    "            dict: A dictionary with a list of ToolMessage objects containing the results of tool executions.\n",
    "        \n",
    "        Raises:\n",
    "            ValueError: If no messages are found in the input.\n",
    "        \"\"\"\n",
    "        # Extracts the latest message from the input, raising an error if no messages are found\n",
    "        if messages := inputs.get(\"messages\", []):\n",
    "            message = messages[-1]\n",
    "        else:\n",
    "            raise ValueError(\"No message found in input\")\n",
    "\n",
    "        # List to accumulate the outputs of each tool invocation\n",
    "        outputs = []\n",
    "        \n",
    "        # Iterate over each tool call in the message, invoking the corresponding tool and collecting the results\n",
    "        for tool_call in message.tool_calls:\n",
    "            tool_result = self.tools_by_name[tool_call[\"name\"]].invoke(\n",
    "                tool_call[\"args\"]\n",
    "            )\n",
    "            # Wraps the tool result in a ToolMessage object and appends it to the outputs list\n",
    "            outputs.append(\n",
    "                ToolMessage(\n",
    "                    content=json.dumps(tool_result),\n",
    "                    name=tool_call[\"name\"],\n",
    "                    tool_call_id=tool_call[\"id\"],\n",
    "                )\n",
    "            )\n",
    "        \n",
    "        # Returns a dictionary with the key \"messages\" containing the list of ToolMessage objects\n",
    "        return {\"messages\": outputs}\n",
    "\n",
    "# Example usage: Instantiating the BasicToolNode with a list of tools and adding it to a graph builder\n",
    "tool_node = BasicToolNode(tools=[tool])\n",
    "graph_builder.add_node(\"tools\", tool_node)"
   ]
  },
  {
   "cell_type": "code",
   "execution_count": 31,
   "metadata": {},
   "outputs": [],
   "source": [
    "from typing import Literal\n",
    "\n",
    "def route_tools(\n",
    "    state: State,\n",
    ") -> Literal[\"tools\", \"__end__\"]:\n",
    "    \"\"\"\n",
    "    Determines the next node in the processing graph based on the last AI message in the state.\n",
    "    \n",
    "    This function is used in a conditional edge to decide whether to route the flow to the 'tools' node,\n",
    "    if the last message contains tool calls, or to the '__end__' node if no tool calls are present.\n",
    "\n",
    "    Args:\n",
    "        state (State): The current state, which may be a list of messages or a dictionary containing messages.\n",
    "    \n",
    "    Returns:\n",
    "        Literal[\"tools\", \"__end__\"]: A string indicating the next node to route to. Returns \"tools\" if the last \n",
    "        message has tool calls, otherwise returns \"__end__\".\n",
    "    \n",
    "    Raises:\n",
    "        ValueError: If no messages are found in the state.\n",
    "    \"\"\"\n",
    "    # Checks if the state is a list, retrieves the last message; otherwise, tries to get it from a dictionary\n",
    "    if isinstance(state, list):\n",
    "        ai_message = state[-1]\n",
    "    elif messages := state.get(\"messages\", []):\n",
    "        ai_message = messages[-1]\n",
    "    else:\n",
    "        raise ValueError(f\"No messages found in input state to tool_edge: {state}\")\n",
    "\n",
    "    # If the last message contains tool calls, route to the \"tools\" node\n",
    "    if hasattr(ai_message, \"tool_calls\") and len(ai_message.tool_calls) > 0:\n",
    "        return \"tools\"\n",
    "    \n",
    "    # If no tool calls are found, route to the \"__end__\" node\n",
    "    return \"__end__\"\n",
    "\n",
    "\n",
    "# Conditional routing function to direct the flow based on the presence of tool calls in the last message\n",
    "# The route_tools function will return \"tools\" if the AI message has tool calls, otherwise \"__end__\"\n",
    "graph_builder.add_conditional_edges(\n",
    "    \"chatbot\",  # The node from which the routing decision will be made\n",
    "    route_tools,  # The function that determines the next node\n",
    "    {\n",
    "        # Mapping of function return values to specific nodes in the graph\n",
    "        \"tools\": \"tools\",       # If the function returns \"tools\", route to the \"tools\" node\n",
    "        \"__end__\": \"__end__\",   # If the function returns \"__end__\", route to the \"__end__\" node\n",
    "    }\n",
    ")\n",
    "\n",
    "# Adding an edge to return to the chatbot node after any tool call to decide the next step\n",
    "graph_builder.add_edge(\"tools\", \"chatbot\")\n",
    "\n",
    "# Starting the graph by linking the START node to the chatbot node\n",
    "graph_builder.add_edge(START, \"chatbot\")\n",
    "\n",
    "# Compile the graph to finalize the structure and prepare it for execution\n",
    "graph = graph_builder.compile()"
   ]
  },
  {
   "cell_type": "code",
   "execution_count": 32,
   "metadata": {},
   "outputs": [
    {
     "data": {
      "image/jpeg": "[encoded data removed]",
      "text/plain": [
       "<IPython.core.display.Image object>"
      ]
     },
     "metadata": {},
     "output_type": "display_data"
    }
   ],
   "source": [
    "from IPython.display import Image, display\n",
    "\n",
    "try:\n",
    "    display(Image(graph.get_graph().draw_mermaid_png()))\n",
    "except Exception:\n",
    "    # This requires some extra dependencies and is optional\n",
    "    pass"
   ]
  },
  {
   "cell_type": "code",
   "execution_count": 33,
   "metadata": {},
   "outputs": [
    {
     "name": "stdin",
     "output_type": "stream",
     "text": [
      "User:  What is weather of Hyderabad india today?\n"
     ]
    },
    {
     "name": "stdout",
     "output_type": "stream",
     "text": [
      "Assistant: \n",
      "Assistant: [{\"url\": \"https://www.weatherapi.com/\", \"content\": \"{'location': {'name': 'Hyderabad', 'region': 'Andhra Pradesh', 'country': 'India', 'lat': 17.38, 'lon': 78.47, 'tz_id': 'Asia/Kolkata', 'localtime_epoch': 1725018685, 'localtime': '2024-08-30 17:21'}, 'current': {'last_updated_epoch': 1725018300, 'last_updated': '2024-08-30 17:15', 'temp_c': 27.4, 'temp_f': 81.3, 'is_day': 1, 'condition': {'text': 'Mist', 'icon': '//cdn.weatherapi.com/weather/64x64/day/143.png', 'code': 1030}, 'wind_mph': 9.4, 'wind_kph': 15.1, 'wind_degree': 300, 'wind_dir': 'WNW', 'pressure_mb': 1007.0, 'pressure_in': 29.74, 'precip_mm': 0.09, 'precip_in': 0.0, 'humidity': 70, 'cloud': 75, 'feelslike_c': 32.7, 'feelslike_f': 90.9, 'windchill_c': 22.3, 'windchill_f': 72.1, 'heatindex_c': 24.7, 'heatindex_f': 76.5, 'dewpoint_c': 20.7, 'dewpoint_f': 69.3, 'vis_km': 5.0, 'vis_miles': 3.0, 'uv': 5.0, 'gust_mph': 18.2, 'gust_kph': 29.3}}\"}, {\"url\": \"https://www.hindustantimes.com/cities/hyderabad-weather-today-aqi-and-rain-forecast-updates-august-30-2024-101724981412530.html\", \"content\": \"The temperature in Hyderabad today, on August 30, 2024, is 22.76 \\u00b0C. The day's forecast indicates a minimum and maximum temperature of 22.05 \\u00b0C and 24.23 \\u00b0C, respectively. The relative humidity ...\"}]\n",
      "Assistant: The weather in Hyderabad, India today is mostly pleasant with a high of 27.4°C (81.3°F) and a low of 22.76°C (72.9°F). There may be some mist and wind blowing at a speed of 9.4 mph from the southwest direction. The humidity level is around 70%, and there's a chance of very light precipitation.\n"
     ]
    },
    {
     "name": "stdin",
     "output_type": "stream",
     "text": [
      "User:  q\n"
     ]
    },
    {
     "name": "stdout",
     "output_type": "stream",
     "text": [
      "Goodbye!\n"
     ]
    }
   ],
   "source": [
    "from langchain_core.messages import BaseMessage\n",
    "\n",
    "# Start an infinite loop to continuously interact with the user\n",
    "while True:\n",
    "    # Prompt the user for input and capture their response\n",
    "    user_input = input(\"User: \")\n",
    "    \n",
    "    # Check if the user wants to quit the interaction\n",
    "    if user_input.lower() in [\"quit\", \"exit\", \"q\"]:\n",
    "        print(\"Goodbye!\")  # Print a farewell message\n",
    "        break  # Exit the loop, ending the program\n",
    "    \n",
    "    # Stream events from the graph using the user's input\n",
    "    # The input is wrapped in a dictionary with \"messages\" key containing a list of tuples (message type, content)\n",
    "    for event in graph.stream({\"messages\": [(\"user\", user_input)]}):\n",
    "        \n",
    "        # Iterate over the values produced by each event in the stream\n",
    "        for value in event.values():\n",
    "            \n",
    "            # Check if the last message in the list is an instance of BaseMessage\n",
    "            if isinstance(value[\"messages\"][-1], BaseMessage):\n",
    "                \n",
    "                # Print the content of the Assistant's response\n",
    "                print(\"Assistant:\", value[\"messages\"][-1].content)"
   ]
  },
  {
   "cell_type": "code",
   "execution_count": null,
   "metadata": {},
   "outputs": [],
   "source": []
  }
 ],
 "metadata": {
  "kernelspec": {
   "display_name": "Python 3 (ipykernel)",
   "language": "python",
   "name": "python3"
  },
  "language_info": {
   "codemirror_mode": {
    "name": "ipython",
    "version": 3
   },
   "file_extension": ".py",
   "mimetype": "text/x-python",
   "name": "python",
   "nbconvert_exporter": "python",
   "pygments_lexer": "ipython3",
   "version": "3.12.4"
  }
 },
 "nbformat": 4,
 "nbformat_minor": 4
}
